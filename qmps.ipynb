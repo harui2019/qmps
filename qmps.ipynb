{
 "cells": [
  {
   "cell_type": "code",
   "execution_count": 1,
   "metadata": {},
   "outputs": [
    {
     "ename": "ModuleNotFoundError",
     "evalue": "No module named 'unitary_iMPS'",
     "output_type": "error",
     "traceback": [
      "\u001b[0;31m---------------------------------------------------------------------------\u001b[0m",
      "\u001b[0;31mModuleNotFoundError\u001b[0m                       Traceback (most recent call last)",
      "\u001b[0;32m/tmp/ipykernel_4010038/1850674801.py\u001b[0m in \u001b[0;36m<module>\u001b[0;34m\u001b[0m\n\u001b[1;32m      6\u001b[0m \u001b[0;32mimport\u001b[0m \u001b[0mmatplotlib\u001b[0m\u001b[0;34m.\u001b[0m\u001b[0mpyplot\u001b[0m \u001b[0;32mas\u001b[0m \u001b[0mplt\u001b[0m\u001b[0;34m\u001b[0m\u001b[0;34m\u001b[0m\u001b[0m\n\u001b[1;32m      7\u001b[0m \u001b[0;32mfrom\u001b[0m \u001b[0mxmps\u001b[0m\u001b[0;34m.\u001b[0m\u001b[0miMPS\u001b[0m \u001b[0;32mimport\u001b[0m \u001b[0miMPS\u001b[0m\u001b[0;34m\u001b[0m\u001b[0;34m\u001b[0m\u001b[0m\n\u001b[0;32m----> 8\u001b[0;31m \u001b[0;32mimport\u001b[0m \u001b[0munitary_iMPS\u001b[0m \u001b[0;32mas\u001b[0m \u001b[0mqMPS\u001b[0m\u001b[0;34m\u001b[0m\u001b[0;34m\u001b[0m\u001b[0m\n\u001b[0m",
      "\u001b[0;31mModuleNotFoundError\u001b[0m: No module named 'unitary_iMPS'"
     ]
    }
   ],
   "source": [
    "%load_ext autoreload\n",
    "%autoreload 2\n",
    "%matplotlib inline\n",
    "import cirq as cirq\n",
    "import numpy as np\n",
    "import matplotlib.pyplot as plt\n",
    "from xmps.iMPS import iMPS\n",
    "import unitary_iMPS as qMPS"
   ]
  },
  {
   "cell_type": "markdown",
   "metadata": {},
   "source": [
    "# qmps\n",
    "This notebook walks through how we represent, optimise, and time evolve uniform matrix product states on a NISQ quantum computer. It depends on xmps, a matrix product state library available at https://github.com/fergusbarratt/xmps, and Cirq, google's quantum programming language available on PyPI."
   ]
  },
  {
   "cell_type": "markdown",
   "metadata": {},
   "source": [
    "# Intro to uniform Matrix Product States"
   ]
  },
  {
   "cell_type": "markdown",
   "metadata": {},
   "source": [
    "An uniform matrix product state in right canonical form can be represented by a single repeated tensor"
   ]
  },
  {
   "cell_type": "code",
   "execution_count": 2,
   "metadata": {},
   "outputs": [],
   "source": [
    "\"\"\"\n",
    "...--A--A--A--A--A--A--...\n",
    "  |  |  |  |  |  |\n",
    "\"\"\";"
   ]
  },
  {
   "cell_type": "markdown",
   "metadata": {},
   "source": [
    "Since we can put the above into left canonical form by a gauge transformation, the expectation value of any local observable can be expressed as follows"
   ]
  },
  {
   "cell_type": "code",
   "execution_count": 3,
   "metadata": {},
   "outputs": [],
   "source": [
    "\"\"\"\n",
    "         --A--...--A--\n",
    "        |  |       |  |\n",
    "<O>   = |  ----O----  r\n",
    "        |  |       |  |\n",
    "         --A--...--A--\n",
    "\n",
    "\"\"\";"
   ]
  },
  {
   "cell_type": "markdown",
   "metadata": {},
   "source": [
    "Where r is the largest right eigenvector of the transfer matrix"
   ]
  },
  {
   "cell_type": "code",
   "execution_count": 4,
   "metadata": {},
   "outputs": [],
   "source": [
    "\"\"\"\n",
    "--A--    ---\n",
    "  |  |      |\n",
    "  |  r =    r\n",
    "  |  |      |\n",
    "--A--    ---\n",
    "\n",
    "\"\"\";"
   ]
  },
  {
   "cell_type": "markdown",
   "metadata": {},
   "source": [
    "## Representation"
   ]
  },
  {
   "cell_type": "markdown",
   "metadata": {},
   "source": [
    "In order to represent a uniform matrix product state of some bond dimension, two objects are sufficient\n",
    "\n",
    " - The state tensor A\n",
    " - The right eigenmatrix r\n",
    " \n",
    "The main idea of this paper is that these can be represented or determined efficiently on a quantum computer, and the resulting quantum state, representing the state of a infinite, TI quantum system, can be optimized and manipulated in an efficient manner."
   ]
  },
  {
   "cell_type": "code",
   "execution_count": 120,
   "metadata": {},
   "outputs": [],
   "source": [
    "# A is a fixed state tensor, r is its right environment\n",
    "A = iMPS().load('./fixtures/A.npy').left_canonicalise()\n",
    "A, r = A[0], A.L \n",
    "\n",
    "# Get U and V for A and R\n",
    "U = qMPS.StateTensor2(qMPS.left_orthogonal_tensor_to_unitary(A))\n",
    "V = qMPS.Environment2(qMPS.environment_to_unitary(r))"
   ]
  },
  {
   "cell_type": "markdown",
   "metadata": {},
   "source": [
    "### State Tensor"
   ]
  },
  {
   "cell_type": "markdown",
   "metadata": {},
   "source": [
    "The A tensor of a matrix product state of bond dimension D can be represented on $\\log_2(D)+1$ qubits as follows"
   ]
  },
  {
   "cell_type": "code",
   "execution_count": 5,
   "metadata": {},
   "outputs": [],
   "source": [
    "\"\"\"       \n",
    "            |0>|0>...|0>|0>\n",
    "               \\    j     /\n",
    "i--A--j  =   |  |   ...  |\n",
    "   |         -------------\n",
    "   σ               U\n",
    "             -------------\n",
    "             |   ...  |  | \n",
    "            /    i     \\/σ\\\n",
    "              \\log_2(D)  +1\n",
    "\"\"\";"
   ]
  },
  {
   "cell_type": "markdown",
   "metadata": {},
   "source": [
    "Where we assume that the state unitary $U$ can be efficiently represented on a quantum computer. In the following we denote the required depth of $U$ as $p(D)$, where $p$ is subpolynomial, and generally we assume constant depth.\n",
    "\n",
    "In code this is represented by the\n",
    "`\n",
    "StateTensor\n",
    "`\n",
    "class."
   ]
  },
  {
   "cell_type": "markdown",
   "metadata": {},
   "source": [
    "### How to get the environment for a given state tensor"
   ]
  },
  {
   "cell_type": "markdown",
   "metadata": {},
   "source": [
    "#### Environment"
   ]
  },
  {
   "cell_type": "markdown",
   "metadata": {},
   "source": [
    "The environment tensor is embedded in a unitary $V$ as follows"
   ]
  },
  {
   "cell_type": "code",
   "execution_count": 10,
   "metadata": {},
   "outputs": [],
   "source": [
    "\"\"\"\n",
    "            |0>|0>...|0>|0>\n",
    "i--C--j  =   |  | ... |  |\n",
    "             -------------\n",
    "                   v\n",
    "             -------------\n",
    "             |  | ... |  | \n",
    "            /  i   \\/  j  \\\n",
    "           \\log_2(D)\\log_2(D)\n",
    "        \n",
    "\n",
    "r = C@C.conj().T\n",
    "\"\"\";"
   ]
  },
  {
   "cell_type": "markdown",
   "metadata": {},
   "source": [
    "Where we assume that the environment unitary $V$ can be efficiently represented on a quantum computer. In the following we denote the depth of V as $q(D)$, where $q$ is subpolynomial, and generally we assume constant depth.\n",
    "\n",
    "In code this is represented by the\n",
    "`\n",
    "Environment\n",
    "`\n",
    "class."
   ]
  },
  {
   "cell_type": "markdown",
   "metadata": {},
   "source": [
    "#### Algorithm"
   ]
  },
  {
   "cell_type": "markdown",
   "metadata": {},
   "source": [
    "Given a StateTensor $U$ (corresponding to $A$), can we efficiently determine the Environment $V$ (corresponding to $r$) on the circuit?"
   ]
  },
  {
   "cell_type": "markdown",
   "metadata": {},
   "source": [
    "The condition that $VV^\\dagger$ is the right environment of U is that $\\rho = \\sigma$ on the following circuit."
   ]
  },
  {
   "cell_type": "code",
   "execution_count": 9,
   "metadata": {},
   "outputs": [],
   "source": [
    "\"\"\" 0 0 0 0 0 0 \n",
    "    | | | | | | \n",
    "    | --- | | |       \n",
    "    |  v  | | |  \n",
    "    | --- | | |  \n",
    "    | | | | | |  \n",
    "    --- | --- |  \n",
    "     u  |  v  |  \n",
    "    --- | --- |  \n",
    "    | | | | | |             \n",
    "    ρ | | σ | |  \n",
    "\n",
    "\"\"\";"
   ]
  },
  {
   "cell_type": "markdown",
   "metadata": {},
   "source": [
    "### Tomography"
   ]
  },
  {
   "cell_type": "markdown",
   "metadata": {},
   "source": [
    "As a first approximation, one can perform state tomography on the $\\rho$ and $\\sigma$ qubits. This method requires $\\sim \\mathcal{O}(p(D)3^{\\log_2(D)})\\sim \\mathcal{O}(p(D)D^3)$ operations, but only $3\\log_2(D)+1$ qubits. $\\mathcal{O}(D^3)$ is the scaling of classical matrix multiplication and the dominant scaling of classical DMRG. Can we do better?"
   ]
  },
  {
   "cell_type": "markdown",
   "metadata": {},
   "source": [
    "In code, the above objective function is available both with full calculation of the wavefunction and via sampling as follows"
   ]
  },
  {
   "cell_type": "code",
   "execution_count": 132,
   "metadata": {},
   "outputs": [
    {
     "name": "stdout",
     "output_type": "stream",
     "text": [
      "2.7391019230549318e-08 0.020923670806051245\n"
     ]
    }
   ],
   "source": [
    "print(qMPS.full_tomography_env_objective_function(U, V),\n",
    "      qMPS.sampled_tomography_env_objective_function(U, V, reps=10000))"
   ]
  },
  {
   "cell_type": "markdown",
   "metadata": {},
   "source": [
    "### Power Method"
   ]
  },
  {
   "cell_type": "markdown",
   "metadata": {},
   "source": [
    "Instead of representing the environment compactly, one can represent it as the contraction of $K$ StateTensors, i.e. since it is the largest eigenvector of a matrix, one can use the power method. This is equivalent to approximating the state of the infinite chain by the state of a length $K+1$ uniform chain."
   ]
  },
  {
   "cell_type": "code",
   "execution_count": null,
   "metadata": {},
   "outputs": [],
   "source": [
    "\"\"\"\n",
    "            |0>|0>...|0>|0>        0 0 0 ... 0     0 0 \n",
    "i--r--j  =   |  | ... |  |     =   | | | ... |     | |\n",
    "             -------------         | | | ... ---------\n",
    "                   v               | | | ...     U     \n",
    "             -------------         | | | ... --------- \n",
    "             |  | ... |  |         | | | ... | ... | | \n",
    "            /      \\/     \\        | | | .........   K\n",
    "           \\log_2(D)\\log_2(D)      | | | .........\n",
    "                                   | | | ... |\n",
    "                                   | ---------\n",
    "                                   |     U            \n",
    "                                   | ---------         \n",
    "                                   | | ... | | \n",
    "                                   | | ... | 2\n",
    "                                   ---------\n",
    "                                       U            \n",
    "                                   ---------           \n",
    "                                   | ... | | \n",
    "                                           1\n",
    "\n",
    "\n",
    "\"\"\";"
   ]
  },
  {
   "cell_type": "markdown",
   "metadata": {},
   "source": [
    " - The power method has an error scaling $\\epsilon \\sim |\\frac{\\lambda_1}{\\lambda_2}|^K$. where $\\lambda_i$ is the $i$th largest eigenvalue of the matrix.\n",
    " - This method requires $\\mathcal{O}(\\log_2(D/\\epsilon))$ qubits, and requires $p(D)\\log(1/\\epsilon)$ operations.\n",
    " - We can do better than polynomial in $D$! Can we improve the qubit and depth scaling?"
   ]
  },
  {
   "cell_type": "markdown",
   "metadata": {},
   "source": [
    "### Swap Test"
   ]
  },
  {
   "cell_type": "markdown",
   "metadata": {},
   "source": [
    "The swap test estimates the overlap $\\mathrm{tr}(\\rho \\sigma)$ between the two states $\\rho$ and $\\sigma$. Naive implementations require deep circuits, but it can be done in constant depth. "
   ]
  },
  {
   "cell_type": "markdown",
   "metadata": {},
   "source": [
    "#### Horizontal "
   ]
  },
  {
   "cell_type": "markdown",
   "metadata": {},
   "source": [
    "The Swap Test Circuits use the circuits introduced in [1]. These circuits have a lower depth and lower $T$ gate count than circuits using the usual SWAP gates. Below is an example swap circuit a for bond dimension 2 MPS: \n",
    "\n",
    "<img src=\"circuits/horizontal_swap_test.png\" ,width = 200>\n",
    "\n",
    "This required $4\\log_2(D)+1$ qubits but a constant additional depth of just 2 gates. The state overlap is maximised when the number of times that $ \\left|11\\right\\rangle $ is measured is minimized. For multiple qubit measurements the CNOT and H gates can be done in parallel ensuring a constant gate depth. \n",
    "\n",
    "<small>[1] [*The SWAP test and the Hong-Ou-Mandel effect are equivalent*](https://arxiv.org/pdf/1303.6814.pdf), Juan Carlos Garcia-Escartin and Pedro Chamorro-Posada, 2013</small>\n"
   ]
  },
  {
   "cell_type": "code",
   "execution_count": 30,
   "metadata": {},
   "outputs": [
    {
     "name": "stdout",
     "output_type": "stream",
     "text": [
      "0:0.1532444804906845\n",
      "1:0.1532444804906845\n",
      "Optimization terminated successfully.\n",
      "         Current function value: 0.153244\n",
      "         Iterations: 2\n",
      "         Function evaluations: 3000\n",
      "Reason for termination is Optimization terminated successfully.\n"
     ]
    }
   ],
   "source": [
    "# generate a random unitary to start\n",
    "from scipy.stats import unitary_group\n",
    "from qmps.represent import HorizontalSwapOptimizer as HSO, HorizontalSampleSwapOptimizer as SampleHSO, Tensor \n",
    "U = Tensor(unitary_group.rvs(4), 'U')\n",
    "\n",
    "optimizer = HSO(U, qaoa_depth = 20)\n",
    "optimizer.settings({'store_values':True,\n",
    "                    'maxiter':500,\n",
    "                    'tol':1e-8,\n",
    "                    'method':'Powell',\n",
    "                    'verbose':True})\n",
    "optimizer.get_env()"
   ]
  },
  {
   "cell_type": "code",
   "execution_count": 27,
   "metadata": {},
   "outputs": [
    {
     "data": {
      "image/png": "[encoded data removed]",
      "text/plain": [
       "<Figure size 432x288 with 1 Axes>"
      ]
     },
     "metadata": {},
     "output_type": "display_data"
    }
   ],
   "source": [
    "optimizer.plot_convergence()"
   ]
  },
  {
   "cell_type": "code",
   "execution_count": null,
   "metadata": {},
   "outputs": [],
   "source": [
    "cirq.optimizer.v"
   ]
  },
  {
   "cell_type": "markdown",
   "metadata": {},
   "source": [
    "#### Vertical"
   ]
  },
  {
   "cell_type": "markdown",
   "metadata": {},
   "source": [
    "The vertical swap test uses $2\\log_2(D)+1$ qubits with an increased circuit depth:\n",
    "\n",
    "<img src=\"circuits/vertical_swap_test.png\" ,width = 250>\n",
    "\n",
    "The state overap is maximized when the probability of measuring the all zero state, $\\left|0...\\right\\rangle$, on the auxillary qubits of the unitary $U$ is maximized."
   ]
  },
  {
   "cell_type": "markdown",
   "metadata": {},
   "source": [
    "### State"
   ]
  },
  {
   "cell_type": "markdown",
   "metadata": {},
   "source": [
    "All q-local observables of the infinite TI system can be obtained by measurements of corresponding pauli string on the following combination of $U$ and $V$ on the qubits marked $1 \\ldots N$"
   ]
  },
  {
   "cell_type": "code",
   "execution_count": 6,
   "metadata": {},
   "outputs": [],
   "source": [
    "\"\"\"\n",
    "         --A--...--A--\n",
    "        |  |       |  |\n",
    "<O>   = |  ----O----  r\n",
    "        |  |       |  |\n",
    "         --A--...--A--\n",
    "\n",
    "      =\n",
    "        |0>......................|0>\n",
    "         | | | ... | | ... || ... |\n",
    "         | | | ... | ---------------\n",
    "         | | | ... |        V         \n",
    "         | | | ... | ---------------           \n",
    "         | | | ... | | ... || ... |\n",
    "         | | | ... | | ... |\n",
    "         | | | ... ---------\n",
    "         | | | ...     U            \n",
    "         | | | ... ---------            \n",
    "         | | | ... | ... | | \n",
    "         | | | .........   N\n",
    "         | | | .........\n",
    "         | | | ... |\n",
    "         | ---------\n",
    "         |     U            \n",
    "         | ---------            \n",
    "         | | ... | | \n",
    "         | | ... | 2\n",
    "         ---------\n",
    "             U            \n",
    "         ---------            \n",
    "         | ... | | \n",
    "                 1\n",
    "            \n",
    "\"\"\";"
   ]
  },
  {
   "cell_type": "markdown",
   "metadata": {},
   "source": [
    "and require the creation of a circuit on $(N+1)\\log_2(D)$ qubits.\n",
    "\n",
    "In code the `State` class is the combination of a `StateTensor` and `Environment` object, and takes as an argument $N$."
   ]
  },
  {
   "cell_type": "markdown",
   "metadata": {},
   "source": [
    "## Optimization"
   ]
  },
  {
   "cell_type": "markdown",
   "metadata": {},
   "source": [
    "Classically the state of the art for finding ground states of 1D spin chains is the DMRG algorithm. DMRG is a variational update over matrix product states. Here we outline how to perform the same task on the quantum computer."
   ]
  },
  {
   "cell_type": "code",
   "execution_count": null,
   "metadata": {
    "collapsed": true,
    "jupyter": {
     "outputs_hidden": true
    }
   },
   "outputs": [],
   "source": []
  },
  {
   "cell_type": "markdown",
   "metadata": {},
   "source": [
    "## Time Evolution"
   ]
  },
  {
   "cell_type": "markdown",
   "metadata": {},
   "source": [
    "Time Dependant Variational Principle [2] is utilized to time evolve the representation of the infinite MPS. The MPS evolves under an $n$-qubit Hamiltonian by applying the $n$-qubit Unitary to the $n$ physical qubits on the `State` class. In general this evolution will make the state leave the manifold of MPS states. This state is then projected onto a state on the manifold that maximises the overlap with the evolved state.\n",
    "\n",
    "The circuit used to find this projection is:\n",
    "\n",
    "<img src=\"circuits/time_evolution.png\" ,width = 300>\n",
    "\n",
    "Overlap of the two states is maximised when the porbability of measuring the all 0 state is maximized.\n",
    "\n",
    "Here the unitary $U^{\\prime}$ is varied while keeping $V$ constant to maximize the overlap between the original MPS that has evolved for a time $t$ under a single qubit Hamiltonian, and the candidate MPS state. Once the optimal $U$ is found the Representation code, outlined above, is used to determine $V^{\\prime}$ to ensure this remains a valid translationally-invariant MPS.\n",
    "\n",
    "<small>[2] [*Time-dependent variational principle for quantum lattices\n",
    "*](https://arxiv.org/pdf/1103.0936.pdf), Jutho Haegeman et al, 2011\n",
    "</small>\n"
   ]
  },
  {
   "cell_type": "markdown",
   "metadata": {},
   "source": [
    "Once a state tensor $U$ and time evolution unitary $U_{H} = e^{iH\\delta t}$ is specified the `MPSTimeEvolve` class can be used to evolve the MPS for a time $\\delta t$ using the method `MPSTimeEvolve.evolve_single_step()`.\n",
    "The attributes `MPSTimeEvolve.u` & `MPSTimeEvolve.v` are the unitaries that specify the state and environment of the evolved states. "
   ]
  },
  {
   "cell_type": "code",
   "execution_count": null,
   "metadata": {},
   "outputs": [],
   "source": []
  }
 ],
 "metadata": {
  "kernelspec": {
   "display_name": "Python 3.9.7 ('base')",
   "language": "python",
   "name": "python3"
  },
  "language_info": {
   "codemirror_mode": {
    "name": "ipython",
    "version": 3
   },
   "file_extension": ".py",
   "mimetype": "text/x-python",
   "name": "python",
   "nbconvert_exporter": "python",
   "pygments_lexer": "ipython3",
   "version": "3.9.7"
  },
  "vscode": {
   "interpreter": {
    "hash": "159f4e407912a17e167f5db34c957ad4331db5f294b01a1425dfe1db5ae08f50"
   }
  }
 },
 "nbformat": 4,
 "nbformat_minor": 4
}
