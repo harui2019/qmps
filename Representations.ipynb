{
 "cells": [
  {
   "cell_type": "code",
   "execution_count": 1,
   "metadata": {},
   "outputs": [
    {
     "name": "stderr",
     "output_type": "stream",
     "text": [
      "UsageError: Line magic function `%` not found.\n"
     ]
    }
   ],
   "source": [
    "% matplotlib notebook\n",
    "import cirq as cirq\n",
    "import numpy as np\n",
    "import scipy as sp\n",
    "import scipy.linalg as la\n",
    "from xmps.spin import paulis\n",
    "from scipy.linalg import norm\n",
    "X, Y, Z = paulis(0.5)\n",
    "\n",
    "class LeftFullGate(cirq.Gate):\n",
    "    \"\"\"\n",
    "    Parametrisation of tr 1 non unitary on right hand site (gate goes on left of diagram). \n",
    "    Singular values are np.array([cos(a), sin(a)])\"\"\"\n",
    "    def __init__(self, params, D=2):\n",
    "        self.params = params\n",
    "    def _decompose_(self, qubits):\n",
    "        a, b, c, d, e, f = self.params\n",
    "        return [cirq.Rx(a*2)(qubits[0]), cirq.inverse(cirq.S(qubits[0])),\n",
    "                cirq.Rz(b)(qubits[1]), cirq.Rx(c)(qubits[1]), cirq.Rz(d)(qubits[1]),\n",
    "                cirq.CNOT(qubits[1], qubits[0]),\n",
    "                cirq.Rx(f)(qubits[1]), cirq.Rz(e)(qubits[1])] \n",
    "    def singular_values(self):\n",
    "        return np.abs(np.array([np.cos(self.params[0]), np.sin(self.params[0])]))\n",
    "    def num_qubits(self):\n",
    "        return 2\n",
    "    \n",
    "class RightFullGate(cirq.Gate):\n",
    "    \"\"\"\n",
    "    Parametrisation of tr 1 non unitary on left hand site (gate goes on right of diagram). \n",
    "    Singular values are np.array([np.sqrt((1-np.sin(a)*np.sin(b))/2), np.sqrt((1+np.sin(a)*np.sin(b))/2)])\"\"\"\n",
    "    def __init__(self, params, D=2):\n",
    "        self.params = params\n",
    "    def _decompose_(self, qubits):\n",
    "        return [cirq.SWAP(*qubits),\n",
    "                cirq.inverse(LeftFullGate(self.params)(*qubits)),\n",
    "                cirq.SWAP(*qubits)] \n",
    "    def singular_values(self):\n",
    "        return np.abs(np.array([np.cos(self.params[0]), np.sin(self.params[0])]))\n",
    "    \n",
    "    def num_qubits(self):\n",
    "        return 2"
   ]
  },
  {
   "cell_type": "code",
   "execution_count": 121,
   "metadata": {},
   "outputs": [],
   "source": [
    "qbs = cirq.LineQubit.range(2)\n",
    "C = cirq.Circuit.from_ops(cirq.decompose_once(LeftFullGate(np.random.randn(6))(*qbs)))\n",
    "a, b, c, d, e, f = x = np.random.randn(6)\n",
    "U1 = cirq.unitary(LeftFullGate(x))\n",
    "U2 = cirq.unitary(RightFullGate(x))\n",
    "\n",
    "z = np.array([1, 0])\n",
    "ρ1 = np.tensordot(np.tensordot(U1.reshape(2, 2, 2, 2), z, [-2, 0]), z, [0, 0])\n",
    "ρ2 = np.tensordot(np.tensordot(U2.reshape(2, 2, 2, 2), z, [-1, 0]), z, [1, 0])\n",
    "u1, s1, v1 = np.linalg.svd(ρ1)\n",
    "u2, s2, v2 = np.linalg.svd(ρ2)\n",
    "\n",
    "s1, [np.cos(a), np.sin(a)], s2\n",
    "assert np.allclose(ρ1, ρ2.conj().T)"
   ]
  },
  {
   "cell_type": "code",
   "execution_count": 105,
   "metadata": {},
   "outputs": [
    {
     "name": "stdout",
     "output_type": "stream",
     "text": [
      "[[ 0.01109451-0.15171059j -0.35918991-0.55430511j]\n",
      " [ 0.0721127 -0.11377644j  0.04684822+0.72128301j]] \n",
      " [[ 0.01109451+0.15171059j  0.0721127 +0.11377644j]\n",
      " [-0.35918991+0.55430511j  0.04684822-0.72128301j]]\n"
     ]
    }
   ],
   "source": []
  },
  {
   "cell_type": "code",
   "execution_count": 14,
   "metadata": {},
   "outputs": [
    {
     "data": {
      "text/plain": [
       "-0.25"
      ]
     },
     "execution_count": 14,
     "metadata": {},
     "output_type": "execute_result"
    }
   ],
   "source": [
    "np.arctan2(-1, 1)/np.pi"
   ]
  },
  {
   "cell_type": "code",
   "execution_count": 58,
   "metadata": {},
   "outputs": [
    {
     "name": "stdout",
     "output_type": "stream",
     "text": [
      "0          1\n",
      "│          │\n",
      "Rx(0.855π) Rz(0.063π)\n",
      "│          │\n",
      "S^-1       Rx(0.354π)\n",
      "│          │\n",
      "│          Rz(0.229π)\n",
      "│          │\n",
      "X──────────@\n",
      "│          │\n",
      "│          Rx(-0.13π)\n",
      "│          │\n",
      "│          Rz(0.158π)\n",
      "│          │\n"
     ]
    }
   ],
   "source": [
    "print(C.to_text_diagram(transpose=True))"
   ]
  },
  {
   "cell_type": "code",
   "execution_count": 119,
   "metadata": {},
   "outputs": [],
   "source": [
    "import sympy as sp\n",
    "a, b, c, d, e, f, g, h = sp.symbols('a, b, c, d, e, f, g, h')\n",
    "A = sp.Matrix([[a, b], [c, d]])\n",
    "B = sp.Matrix([[e, f], [g, h]])\n",
    "def op(r):\n",
    "    return A*r*A.H+B*r*B.H"
   ]
  },
  {
   "cell_type": "code",
   "execution_count": 120,
   "metadata": {},
   "outputs": [
    {
     "data": {
      "text/plain": [
       "Matrix([\n",
       "[a*conjugate(a) + e*conjugate(e), a*conjugate(c) + e*conjugate(g)],\n",
       "[c*conjugate(a) + g*conjugate(e), c*conjugate(c) + g*conjugate(g)]])"
      ]
     },
     "execution_count": 120,
     "metadata": {},
     "output_type": "execute_result"
    }
   ],
   "source": [
    "op(sp.Matrix([[1, 0], [0, 0]]))"
   ]
  },
  {
   "cell_type": "code",
   "execution_count": null,
   "metadata": {},
   "outputs": [],
   "source": []
  }
 ],
 "metadata": {
  "kernelspec": {
   "display_name": "Python 3.9.7 ('base')",
   "language": "python",
   "name": "python3"
  },
  "language_info": {
   "codemirror_mode": {
    "name": "ipython",
    "version": 3
   },
   "file_extension": ".py",
   "mimetype": "text/x-python",
   "name": "python",
   "nbconvert_exporter": "python",
   "pygments_lexer": "ipython3",
   "version": "3.9.7"
  },
  "vscode": {
   "interpreter": {
    "hash": "159f4e407912a17e167f5db34c957ad4331db5f294b01a1425dfe1db5ae08f50"
   }
  }
 },
 "nbformat": 4,
 "nbformat_minor": 2
}
