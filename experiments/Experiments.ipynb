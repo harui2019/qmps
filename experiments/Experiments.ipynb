{
 "cells": [
  {
   "cell_type": "code",
   "execution_count": 8,
   "metadata": {},
   "outputs": [],
   "source": [
    "import numpy as np\n",
    "import cirq\n",
    "X = np.array([[0, 1], [1, 0]])\n",
    "Y = np.array([[0, -1j], [1j, 0]])\n",
    "Z = np.array([[1, 0], [0, -1]])\n",
    "I = np.array([[1, 0], [0, 1]])"
   ]
  },
  {
   "cell_type": "code",
   "execution_count": 9,
   "metadata": {},
   "outputs": [],
   "source": [
    "import cirq\n",
    "from numpy import pi\n",
    "import numpy as np\n",
    "from sympy import Symbol, Matrix\n",
    "from cirq.contrib.svg import SVGCircuit, circuit_to_svg\n",
    "\n",
    "sqrtiSWAP = cirq.ISwapPowGate(exponent = 0.5)    \n",
    "sqrtiSWAPinv = cirq.ISwapPowGate(exponent = -0.5)    \n",
    "\n",
    "def round(matrix):\n",
    "    return np.round(matrix,3)\n",
    "\n",
    "class ParametrisedCircuit(cirq.Gate):\n",
    "    \"\"\"\n",
    "    This circuit parametrises an MPS state using repeated layers of Ry \n",
    "    gates and sqrt(iSWAP) gate as are available on Google's device\n",
    "    \"\"\"\n",
    "    def __init__(self, depth, params):\n",
    "        \"\"\"\n",
    "        params = [[Θ1, Θ2],...], 2 params for each layer\n",
    "        \"\"\"\n",
    "        assert len(params) == depth\n",
    "        self.d = depth\n",
    "        self.p = params\n",
    "\n",
    "    def num_qubits(self):\n",
    "        return 2\n",
    "\n",
    "    def _decompose_(self, qubits):\n",
    "        gates = []\n",
    "        for p in self.p:\n",
    "            gates += [cirq.ry(p[0]).on(qubits[0]),\n",
    "                      cirq.ry(p[1]).on(qubits[1]),\n",
    "                      sqrtiSWAP.on(*qubits)]\n",
    "        return gates\n",
    "\n",
    "\n",
    "class K(cirq.Gate):\n",
    "    def __init__(self, theta):\n",
    "        self.theta = theta\n",
    "\n",
    "    def num_qubits(self):\n",
    "        return 2\n",
    "\n",
    "    def _decompose_(self, qubits):\n",
    "        return [\n",
    "            cirq.rz(-pi/4)(qubits[0]),\n",
    "            cirq.rz(pi/4)(qubits[1]),\n",
    "            sqrtiSWAP.on(*qubits),\n",
    "            cirq.rz(self.theta)(qubits[0]),\n",
    "            cirq.rz(-self.theta)(qubits[1]),\n",
    "            sqrtiSWAPinv.on(*qubits),\n",
    "            cirq.rz(pi/4)(qubits[0]),\n",
    "            cirq.rz(-pi/4)(qubits[1])\n",
    "        ]\n",
    "\n",
    "class expYY(cirq.Gate):\n",
    "    def __init__(self, gamma):\n",
    "        self.gamma = gamma\n",
    "\n",
    "    def num_qubits(self):\n",
    "        return 2\n",
    "\n",
    "    def _decompose_(self, qubits):\n",
    "        return [\n",
    "            K(self.gamma).on(*qubits),\n",
    "            cirq.X.on(qubits[1]),\n",
    "            K(-self.gamma).on(*qubits),\n",
    "            cirq.X.on(qubits[1])\n",
    "        ]\n",
    "\n",
    "class V(cirq.Gate):\n",
    "    def __init__(self, params):\n",
    "        self.gamma = params[0]\n",
    "        self.psi = params[1]\n",
    "        self.phi = params[2]\n",
    "    \n",
    "    def num_qubits(self):\n",
    "        return 2\n",
    "\n",
    "    def _decompose_(self, qubits):\n",
    "        return [\n",
    "            expYY(self.gamma).on(*qubits),\n",
    "            cirq.rx(self.psi).on(qubits[0]),\n",
    "            cirq.rz(self.phi).on(qubits[0])\n",
    "        ]\n",
    "\n",
    "class CPHASE(cirq.Gate):\n",
    "    def __init__(self, phi, alpha, xi_one, xi_two):\n",
    "        self.phi = phi\n",
    "        self.alpha = alpha\n",
    "        self.xi_one = xi_one\n",
    "        self.xi_two = xi_two\n",
    "\n",
    "    def num_qubits(self):\n",
    "        return 2\n",
    "\n",
    "    def _decompose_(self, qubits):\n",
    "        return [\n",
    "            cirq.rz(-self.phi/2)(qubits[0]),\n",
    "            cirq.rz(-self.phi/2)(qubits[1]),\n",
    "            cirq.rx(self.xi_one)(qubits[0]),\n",
    "            cirq.rx(self.xi_two)(qubits[1]),\n",
    "            sqrtiSWAPinv(*qubits),\n",
    "            cirq.rx(-2*self.alpha)(qubits[0]),\n",
    "            sqrtiSWAPinv(*qubits),\n",
    "            cirq.rx(self.xi_one)(qubits[0]),\n",
    "            cirq.rx(-self.xi_two)(qubits[1])\n",
    "        ]\n",
    "\n",
    "class CPHASEExact(CPHASE):\n",
    "    def __init__(self, phi):\n",
    "        self.phi = phi\n",
    "\n",
    "    def num_qubits(self):\n",
    "        return 2\n",
    "\n",
    "    def _decompose_(self, qubits):\n",
    "        return [cirq.CZPowGate(exponent=self.phi / pi)(*qubits)]\n",
    "\n",
    "class TFIM(cirq.Gate):\n",
    "    def __init__(self, J, g, ξ1, ξ2, α):\n",
    "        self.J = J\n",
    "        self.g = g\n",
    "        self.ξ1 = ξ1\n",
    "        self.ξ2 = ξ2\n",
    "        self.α = α\n",
    "\n",
    "    def num_qubits(self):\n",
    "        return 2\n",
    "\n",
    "    def _decompose_(self, qubits):\n",
    "        return [\n",
    "            cirq.Y(qubits[0]),\n",
    "            cirq.Y(qubits[1]),\n",
    "            K(self.J)(*qubits),\n",
    "            cirq.X(qubits[1]),\n",
    "            K(self.J)(*qubits),\n",
    "            cirq.X(qubits[0]),\n",
    "            CPHASE(self.g, self.α, self.ξ1, self.ξ2)(*qubits),\n",
    "            cirq.X(qubits[0]),\n",
    "            cirq.X(qubits[1]),\n",
    "            CPHASE(self.g, self.α, self.ξ1, self.ξ2)(*qubits),\n",
    "            cirq.Y(qubits[0]),\n",
    "            cirq.Y(qubits[1])\n",
    "        ]\n",
    "    \n",
    "class RightEnvironment(cirq.Gate):\n",
    "    def __init__(self, params):\n",
    "        self.θ = params[0]\n",
    "        self.ψ = params[1]\n",
    "        self.ϕ = params[2]\n",
    "\n",
    "    def num_qubits(self):\n",
    "        return 2\n",
    "\n",
    "    def _decompose_(self, qubits):\n",
    "        return [\n",
    "            cirq.rz(self.ψ)(qubits[1]),\n",
    "            cirq.rx(self.ϕ)(qubits[1]),\n",
    "            cirq.rx(self.θ)(qubits[0]),\n",
    "            cirq.CNOT(qubits[1], qubits[0]),\n",
    "            cirq.rx(self.θ)(qubits[0]),\n",
    "            cirq.rx(-self.ϕ)(qubits[1]),\n",
    "            cirq.rz(-self.ψ)(qubits[1])\n",
    "        ]\n"
   ]
  },
  {
   "cell_type": "markdown",
   "metadata": {},
   "source": [
    "### Representing\n",
    "\n",
    "- Represent infinite MPS on quantum device"
   ]
  },
  {
   "cell_type": "code",
   "execution_count": 18,
   "metadata": {},
   "outputs": [
    {
     "name": "stdout",
     "output_type": "stream",
     "text": [
      "Writing 'circuit_to_svg(cirq.google.optimized_for_sycamore(c))' (str) to file 'represent.svg'.\n",
      "20\n"
     ]
    }
   ],
   "source": [
    "# Representing Circuit:\n",
    "q = cirq.LineQubit.range(5)\n",
    "c = cirq.Circuit()\n",
    "state_symbols = [[Symbol(\"Θ1\"), Symbol(\"Θ2\")], [Symbol(\"Θ3\"), Symbol(\"Θ4\")]]\n",
    "env_symbols = [Symbol(\"γ\"), Symbol(\"ϕ1\"), Symbol(\"ϕ2\")]\n",
    "c.append([\n",
    "    V(env_symbols)(*q[3:5]),\n",
    "    ParametrisedCircuit(2, state_symbols)(*q[2:4]),\n",
    "    V(env_symbols)(*q[0:2]),\n",
    "    cirq.CNOT(q[0],q[2]),\n",
    "    cirq.H(q[0])\n",
    "])\n",
    "\n",
    "\n",
    "%store circuit_to_svg(cirq.google.optimized_for_sycamore(c)) >represent.svg\n",
    "SVGCircuit(cirq.google.optimized_for_sycamore(c))\n",
    "print(len(cirq.google.optimized_for_sycamore(c)))"
   ]
  },
  {
   "cell_type": "markdown",
   "metadata": {},
   "source": [
    "### Optimization"
   ]
  },
  {
   "cell_type": "markdown",
   "metadata": {},
   "source": [
    " - Finding the ground state of the Transverse Field Ising Hamiltonian "
   ]
  },
  {
   "cell_type": "code",
   "execution_count": 19,
   "metadata": {},
   "outputs": [
    {
     "name": "stdout",
     "output_type": "stream",
     "text": [
      "Writing 'circuit_to_svg(cirq.google.optimized_for_sycamore(c))' (str) to file 'optimize.svg'.\n",
      "25\n"
     ]
    }
   ],
   "source": [
    "# Optimising Circuit:\n",
    "q = cirq.LineQubit.range(6)\n",
    "c = cirq.Circuit()\n",
    "state_symbols = [[Symbol(\"Θ1\"), Symbol(\"Θ2\")], [Symbol(\"Θ3\"), Symbol(\"Θ4\")]]\n",
    "env_symbols = [Symbol(\"γ0\"), Symbol(\"γ1\"), Symbol(\"γ2\")]\n",
    "# J,g, α, ξ1, ξ2 = [Symbol(\"J\"), Symbol(\"g\"), Symbol(\"α\"), Symbol(\"ξ1\"), Symbol(\"ξ2\")]\n",
    "c.append([\n",
    "    V(env_symbols)(*q[0:2]),\n",
    "    V(env_symbols)(*q[4:6]),\n",
    "    ParametrisedCircuit(2, state_symbols)(*q[3:5]),\n",
    "    ParametrisedCircuit(2, state_symbols)(*q[2:4]),\n",
    "    cirq.CNOT(q[2], q[0]),\n",
    "    cirq.H(q[2]),\n",
    "    cirq.CNOT(q[4],q[3]),\n",
    "    cirq.measure(*([q[0]] + q[2:5]))\n",
    "])\n",
    "\n",
    "%store circuit_to_svg(cirq.google.optimized_for_sycamore(c)) >optimize.svg\n",
    "SVGCircuit(cirq.google.optimized_for_sycamore(c))\n",
    "\n",
    "print(len(cirq.google.optimized_for_sycamore(c)))"
   ]
  },
  {
   "cell_type": "markdown",
   "metadata": {},
   "source": [
    "### Time evolution "
   ]
  },
  {
   "cell_type": "markdown",
   "metadata": {},
   "source": [
    " - Determining Loschmidt Echoes"
   ]
  },
  {
   "cell_type": "code",
   "execution_count": 21,
   "metadata": {},
   "outputs": [
    {
     "name": "stdout",
     "output_type": "stream",
     "text": [
      "Writing 'circuit_to_svg(cirq.google.optimized_for_sycamore(c))' (str) to file 'timeevo.svg'.\n",
      "66\n"
     ]
    }
   ],
   "source": [
    "# Optimising Circuit 1 (the long one):\n",
    "q = cirq.LineQubit.range(8)\n",
    "c = cirq.Circuit()\n",
    "state_symbols_1 = [[Symbol(\"Θ1\"), Symbol(\"Θ2\")], [Symbol(\"Θ3\"), Symbol(\"Θ4\")]]\n",
    "state_symbols_2 = [[Symbol(\"ϕ1\"), Symbol(\"ϕ2\")], [Symbol(\"ϕ3\"), Symbol(\"ϕ4\")]]\n",
    "env_symbols = [Symbol(\"θ\"), Symbol(\"ψ\"), Symbol(\"ϕ\")]\n",
    "J,g, α, ξ1, ξ2 = [Symbol(\"J\"), Symbol(\"g\"), Symbol(\"α\"), Symbol(\"ξ1\"), Symbol(\"ξ2\")]\n",
    "c.append([\n",
    "    cirq.H(q[5]),\n",
    "    cirq.CNOT(q[6],q[5]),\n",
    "    ParametrisedCircuit(2, state_symbols_2)(*q[4:6]),\n",
    "    ParametrisedCircuit(2, state_symbols_2)(*q[3:5]),\n",
    "    ParametrisedCircuit(2, state_symbols_1)(*q[2:4]),\n",
    "    ParametrisedCircuit(2, state_symbols_1)(*q[1:3]),\n",
    "    TFIM(J,g,α,ξ1,ξ2)(*q[2:4]),\n",
    "    TFIM(J,g,α,ξ1,ξ2)(*q[4:6]),\n",
    "    RightEnvironment(env_symbols).on(*q[0:2]),\n",
    "    RightEnvironment(env_symbols).on(*[q[7],q[6]]),\n",
    "    cirq.inverse(ParametrisedCircuit(2, state_symbols_2)(*q[1:3])),\n",
    "    cirq.inverse(ParametrisedCircuit(2, state_symbols_2)(*q[2:4])),\n",
    "    cirq.inverse(ParametrisedCircuit(2, state_symbols_1)(*q[3:5])),\n",
    "    cirq.inverse(ParametrisedCircuit(2, state_symbols_1)(*q[4:6])),\n",
    "    cirq.CNOT(q[6],q[5]),\n",
    "    cirq.H(q[5])\n",
    "])\n",
    "\n",
    "\n",
    "%store circuit_to_svg(cirq.google.optimized_for_sycamore(c)) >timeevo.svg\n",
    "SVGCircuit(cirq.google.optimized_for_sycamore(c))\n",
    "print(len(cirq.google.optimized_for_sycamore(c)))"
   ]
  },
  {
   "cell_type": "code",
   "execution_count": 22,
   "metadata": {},
   "outputs": [
    {
     "name": "stdout",
     "output_type": "stream",
     "text": [
      "Writing 'circuit_to_svg(cirq.google.optimized_for_sycamore(c))' (str) to file 'timeevo2.svg'.\n",
      "55\n"
     ]
    }
   ],
   "source": [
    "# Optimising Circuit 2 (the middle one):\n",
    "q = cirq.LineQubit.range(5)\n",
    "c = cirq.Circuit()\n",
    "state_symbols_1 = [[Symbol(\"Θ1\"), Symbol(\"Θ2\")], [Symbol(\"Θ3\"), Symbol(\"Θ4\")]]\n",
    "state_symbols_2 = [[Symbol(\"ϕ1\"), Symbol(\"ϕ2\")], [Symbol(\"ϕ3\"), Symbol(\"ϕ4\")]]\n",
    "env_symbols = [Symbol(\"θ\"), Symbol(\"ψ\"), Symbol(\"ϕ\")]\n",
    "J,g, α, ξ1, ξ2 = [Symbol(\"J\"), Symbol(\"g\"), Symbol(\"α\"), Symbol(\"ξ1\"), Symbol(\"ξ2\")]\n",
    "c.append([\n",
    "    cirq.H(q[3]),\n",
    "    cirq.CNOT(q[4],q[3]),\n",
    "    ParametrisedCircuit(2, state_symbols_2)(*q[2:4]),\n",
    "    ParametrisedCircuit(2, state_symbols_1)(*q[1:3]),\n",
    "    TFIM(J,g,α,ξ1,ξ2)(*q[2:4]),\n",
    "    RightEnvironment(env_symbols).on(*q[0:2]),\n",
    "    RightEnvironment(env_symbols).on(*[q[-1],q[-2]]),\n",
    "    cirq.inverse(ParametrisedCircuit(2, state_symbols_2)(*q[1:3])),\n",
    "    cirq.inverse(ParametrisedCircuit(2, state_symbols_1)(*q[2:4])),\n",
    "    cirq.CNOT(q[4],q[3]),\n",
    "    cirq.H(q[3])\n",
    "])\n",
    "\n",
    "\n",
    "%store circuit_to_svg(cirq.google.optimized_for_sycamore(c)) >timeevo2.svg\n",
    "SVGCircuit(cirq.google.optimized_for_sycamore(c))\n",
    "print(len(cirq.google.optimized_for_sycamore(c)))"
   ]
  },
  {
   "cell_type": "code",
   "execution_count": 23,
   "metadata": {},
   "outputs": [
    {
     "name": "stdout",
     "output_type": "stream",
     "text": [
      "Writing 'circuit_to_svg(cirq.google.optimized_for_sycamore(c))' (str) to file 'timeevo3.svg'.\n",
      "19\n"
     ]
    }
   ],
   "source": [
    "# Optimising Circuit 3 (the small one):\n",
    "q = cirq.LineQubit.range(4)\n",
    "c = cirq.Circuit()\n",
    "env_symbols = [Symbol(\"θ\"), Symbol(\"ψ\"), Symbol(\"ϕ\")]\n",
    "c.append([\n",
    "    cirq.H(q[1]),\n",
    "    cirq.CNOT(q[2],q[1]),\n",
    "    RightEnvironment(env_symbols).on(*q[0:2]),\n",
    "    RightEnvironment(env_symbols).on(*[q[-1],q[-2]]),\n",
    "    cirq.CNOT(q[2],q[1]),\n",
    "    cirq.H(q[2])\n",
    "])\n",
    "\n",
    "\n",
    "%store circuit_to_svg(cirq.google.optimized_for_sycamore(c)) >timeevo3.svg\n",
    "SVGCircuit(cirq.google.optimized_for_sycamore(c))\n",
    "print(len(cirq.google.optimized_for_sycamore(c)))"
   ]
  },
  {
   "cell_type": "code",
   "execution_count": 24,
   "metadata": {},
   "outputs": [
    {
     "name": "stdout",
     "output_type": "stream",
     "text": [
      "23\n"
     ]
    }
   ],
   "source": [
    "# Optimising Circuit 2 (the middle one):\n",
    "q = cirq.LineQubit.range(2)\n",
    "c = cirq.Circuit()\n",
    "J,g, α, ξ1, ξ2 = [Symbol(\"J\"), Symbol(\"g\"), Symbol(\"α\"), Symbol(\"ξ1\"), Symbol(\"ξ2\")]\n",
    "c.append([\n",
    "    TFIM(J,g,α,ξ1,ξ2)(*q)\n",
    "])\n",
    "\n",
    "print(len(cirq.google.optimized_for_sycamore(c)))"
   ]
  },
  {
   "cell_type": "code",
   "execution_count": null,
   "metadata": {},
   "outputs": [],
   "source": []
  }
 ],
 "metadata": {
  "kernelspec": {
   "display_name": "Python 3.9.7 ('base')",
   "language": "python",
   "name": "python3"
  },
  "language_info": {
   "codemirror_mode": {
    "name": "ipython",
    "version": 3
   },
   "file_extension": ".py",
   "mimetype": "text/x-python",
   "name": "python",
   "nbconvert_exporter": "python",
   "pygments_lexer": "ipython3",
   "version": "3.9.7"
  },
  "toc": {
   "base_numbering": 1,
   "nav_menu": {},
   "number_sections": true,
   "sideBar": true,
   "skip_h1_title": false,
   "title_cell": "Table of Contents",
   "title_sidebar": "Contents",
   "toc_cell": false,
   "toc_position": {},
   "toc_section_display": true,
   "toc_window_display": false
  },
  "vscode": {
   "interpreter": {
    "hash": "159f4e407912a17e167f5db34c957ad4331db5f294b01a1425dfe1db5ae08f50"
   }
  }
 },
 "nbformat": 4,
 "nbformat_minor": 4
}
